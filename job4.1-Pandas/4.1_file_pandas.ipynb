{
 "cells": [
  {
   "cell_type": "code",
   "execution_count": 19,
   "metadata": {
    "collapsed": false
   },
   "outputs": [],
   "source": [
    "import pandas as pd\n",
    "DATA_PATH = './names/'\n",
    "cols = ['Name','Gender','Count']\n",
    "\n",
    "def top3(*args):\n",
    "    name_all = pd.DataFrame({})\n",
    "    for i in args:\n",
    "        r=pd.read_csv(DATA_PATH + f'yob{i}.txt', names=cols)\n",
    "        name_all = pd.concat([r,name_all])\n",
    "    df = name_all.groupby('Name').sum().sort_values(by=['Count'], ascending=False).head(3)\n",
    "    del df.index.name\n",
    "    print('3 cамых популярных имени за {} годы - {}'.format(args, ', '.join(df.index.tolist())) if len(args)>1\n",
    "          else '3 Самых популярных имени за {} год - {}'.format(*args, ', '.join(df.index.tolist())))\n",
    "    print(df)"
   ]
  },
  {
   "cell_type": "code",
   "execution_count": 13,
   "metadata": {
    "collapsed": false
   },
   "outputs": [
    {
     "name": "stdout",
     "output_type": "stream",
     "text": [
      "3 Самых популярных имени за 1900 год - Mary, John, William\n",
      "         Count\n",
      "Mary     16781\n",
      "John      9875\n",
      "William   8623\n",
      "---------\n",
      "3 cамых популярных имени за (1900, 1950, 2000) годы - James, John, Robert\n",
      "         Count\n",
      "James   111795\n",
      "John    109595\n",
      "Robert  101381\n"
     ]
    }
   ],
   "source": [
    "top3(1900)\n",
    "print('---------')\n",
    "top3(1900, 1950, 2000)\n",
    "# top3(*os.listdir(DATA_PATH))  сразу все файлы в указаной директории, НО изменить yob{i}.txt -> i"
   ]
  },
  {
   "cell_type": "code",
   "execution_count": 21,
   "metadata": {
    "collapsed": false
   },
   "outputs": [
    {
     "name": "stdout",
     "output_type": "stream",
     "text": [
      "{'F': [299810], 'M': [150486]}\n",
      "              Count\n",
      "Year Gender        \n",
      "1900 F       299810\n",
      "     M       150486\n",
      "---------------------\n",
      "{'F': [299810, 1713259, 1814922], 'M': [150486, 1790871, 1962744]}\n",
      "               Count\n",
      "Year Gender         \n",
      "1900 F        299810\n",
      "     M        150486\n",
      "1950 F       1713259\n",
      "     M       1790871\n",
      "2000 F       1814922\n",
      "     M       1962744\n",
      "------------------------\n",
      "{'F': [299810, 1713259, 1814922, 1795556], 'M': [150486, 1790871, 1962744, 1940095]}\n",
      "               Count\n",
      "Year Gender         \n",
      "1900 F        299810\n",
      "     M        150486\n",
      "1950 F       1713259\n",
      "     M       1790871\n",
      "2000 F       1814922\n",
      "     M       1962744\n",
      "2002 F       1795556\n",
      "     M       1940095\n"
     ]
    }
   ],
   "source": [
    "def count_dynamics(*args):\n",
    "    name_all = pd.DataFrame({})\n",
    "    for i in args:\n",
    "        r = pd.read_csv(DATA_PATH + f'yob{i}.txt', names=cols)\n",
    "        r.insert(0,'Year',i) # r['Year']=i\n",
    "        name_all = pd.concat([r,name_all])\n",
    "    df = name_all.groupby(['Year','Gender']).sum()\n",
    "    z=df.to_dict(orient='dict')\n",
    "    a={'F':[],'M':[]} # В этой части покритикуйте. Чувствую, что можно намного короче, чем циклом\n",
    "    for k, i in z['Count'].items():\n",
    "        if k[1] == 'F':\n",
    "            a['F'].append(i)\n",
    "        else: a['M'].append(i)\n",
    "    print(a)\n",
    "    print(df)\n",
    "\n",
    "count_dynamics(1900)\n",
    "print('---------------------')\n",
    "count_dynamics(1900, 1950, 2000)\n",
    "print('------------------------')\n",
    "count_dynamics(1900, 1950, 2000, 2002)"
   ]
  },
  {
   "cell_type": "code",
   "execution_count": null,
   "metadata": {
    "collapsed": true
   },
   "outputs": [],
   "source": [
    ""
   ]
  }
 ],
 "metadata": {
  "kernelspec": {
   "display_name": "Python 3",
   "language": "python",
   "name": "python3"
  },
  "language_info": {
   "codemirror_mode": {
    "name": "ipython",
    "version": 3.0
   },
   "file_extension": ".py",
   "mimetype": "text/x-python",
   "name": "python",
   "nbconvert_exporter": "python",
   "pygments_lexer": "ipython3",
   "version": "3.6.0"
  }
 },
 "nbformat": 4,
 "nbformat_minor": 0
}