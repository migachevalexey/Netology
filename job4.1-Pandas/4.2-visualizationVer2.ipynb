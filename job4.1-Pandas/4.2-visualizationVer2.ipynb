{
 "cells": [
  {
   "cell_type": "code",
   "execution_count": 1,
   "metadata": {
    "collapsed": true
   },
   "outputs": [],
   "source": [
    "import pandas as pd\n",
    "\n",
    "import numpy as np\n",
    "import os\n",
    "\n",
    "import matplotlib.pyplot as plt\n",
    "\n",
    "%matplotlib inline\n"
   ]
  },
  {
   "cell_type": "code",
   "execution_count": null,
   "metadata": {
    "collapsed": false
   },
   "outputs": [],
   "source": [
    "DATA_PATH = './names/'\n",
    "cols = ['Name', 'Gender', 'Count']\n",
    "\n",
    "\n",
    "def dynamic_names(*args):\n",
    "    names_by_year = {}\n",
    "    for year in range(1900, 2001):\n",
    "        names_by_year[year] = pd.read_csv(DATA_PATH + f'yob{year}.txt',\n",
    "                                          names=cols)\n",
    "    names_all = pd.concat(names_by_year, names=['Year', 'Pos'])\n",
    "    name_dynamics = names_all.groupby([names_all.index.get_level_values(0), 'Name']).sum()\n",
    "    name_dynamics.query(f'Name == {args}').unstack('Name').plot(title=f'Динамика имен {args}', grid=True)\n",
    "    return name_dynamics.query(f'Name == {args}').unstack('Name')\n",
    "\n",
    "\n",
    "def count_names(start, end, n=1, *args):\n",
    "    names_by_year = dynamic_names(*args)\n",
    "    lst= [i for i in range(start, end, n)]\n",
    "    names_by_year = names_by_year.query(f'Year=={lst}')   \n",
    "    names_by_year.plot.bar(title=f'Динамика имен {args}', grid=True)\n",
    "\n",
    "\n",
    "def letter_name(year, letter, n):\n",
    "    names = pd.read_csv(DATA_PATH + f'yob{year}.txt',\n",
    "                        names=cols)\n",
    "    names = names[(names.Name.str.startswith(letter))].groupby('Name').sum().sort_values(by='Count',\n",
    "                                                                                         ascending=False).head(n)\n",
    "    names.plot.pie(y='Count', title=f'Имена на букву {letter} за {year}г.', autopct='%1.1f%%', shadow=True,\n",
    "                   explode=tuple([0 if i != 1 else 0.1 for i in range(n)]), legend=False)\n",
    "\n",
    "\n",
    "def consonant(*args):\n",
    "    names_by_year = {}\n",
    "    for year in args:\n",
    "        names_by_year[year] = pd.read_csv(DATA_PATH + year,\n",
    "                                          names=cols)\n",
    "    names_all = pd.concat(names_by_year, names=['Pos'])\n",
    "    names_all = names_all.groupby(['Name']).sum().sort_values(by='Count',\n",
    "                                                              ascending=False)\n",
    "    names_all.reset_index(inplace=True)\n",
    "    def count_to_len(row):\n",
    "        return len([i for i in row.Name.lower() if i not in ['a', 'e', 'i', 'o', 'u']])\n",
    "    names_all['quant_consonant'] = names_all.apply(count_to_len, axis=1)\n",
    "    names_all.plot.scatter(x='quant_consonant', y='Count')\n",
    "    # print(names_all.query('quant_consonant==8')) Name = Christopher, портит нормальное распределение\n",
    "\n",
    "\n",
    "\n",
    "dynamic_names('Ruth', 'Robert')\n",
    "count_names(1900, 2001, 5,'Ruth', 'Robert')\n",
    "letter_name(1950, 'R', 10)\n",
    "consonant(*os.listdir(DATA_PATH))"
   ]
  }
 ],
 "metadata": {
  "kernelspec": {
   "display_name": "Python 3",
   "language": "python",
   "name": "python3"
  },
  "language_info": {
   "codemirror_mode": {
    "name": "ipython",
    "version": 3
   },
   "file_extension": ".py",
   "mimetype": "text/x-python",
   "name": "python",
   "nbconvert_exporter": "python",
   "pygments_lexer": "ipython3",
   "version": "3.6.0"
  }
 },
 "nbformat": 4,
 "nbformat_minor": 2
}
